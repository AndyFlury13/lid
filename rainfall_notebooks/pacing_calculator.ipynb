{
 "cells": [
  {
   "cell_type": "code",
   "execution_count": 1,
   "metadata": {},
   "outputs": [],
   "source": [
    "import pandas as pd\n",
    "import numpy as np"
   ]
  },
  {
   "cell_type": "code",
   "execution_count": 132,
   "metadata": {},
   "outputs": [
    {
     "data": {
      "text/plain": [
       "[[0.003333333, 4.0],\n",
       " [0.00583333325, 16.7500003],\n",
       " [0.0108333345, 40.87499955],\n",
       " [0.0224999975, 91.6250003],\n",
       " [0.034166665, 170.7499998],\n",
       " [0.04625, 282.2499993],\n",
       " [0.049999997500000004, 406.24999855],\n",
       " [0.045, 522.49999955],\n",
       " [0.0395833325, 623.25]]"
      ]
     },
     "execution_count": 132,
     "metadata": {},
     "output_type": "execute_result"
    }
   ],
   "source": [
    "df101_2 = pd.read_csv(\"pacing/101-2.csv\")\n",
    "#df101_2.columns\n",
    "df101_2 = df101_2[[\"TOA5\", \"Unnamed: 2\", \"Unnamed: 5\"]]\n",
    "df101_2 = df101_2.iloc[3:]\n",
    "ratios = []\n",
    "i = 3\n",
    "while i < 75:\n",
    "    ratios += [[float(df101_2.iloc[i][\"Unnamed: 2\"]) * 2, float(df101_2.iloc[i][\"Unnamed: 5\"]) * 2]]\n",
    "    i += 8\n",
    "\n",
    "ratios\n",
    "\n",
    "df101_8 = pd.read_csv(\"pacing/101-8.csv\")\n",
    "df101_8 = df101_8[[\"Date/Time\", \"Q_101_litsec_Avg\", \"Total Volume (L)\"]]\n",
    "df101_8\n",
    "i = 3\n",
    "j = 0\n",
    "ratios\n",
    "while i < 75:\n",
    "    \n",
    "    ratios[j][0] = (ratios[j][0] +  float(df101_8.iloc[i][\"Q_101_litsec_Avg\"]) / 2) / 2\n",
    "    ratios[j][1] = (ratios[j][1] +  float(df101_8.iloc[i][\"Total Volume (L)\"]) / 2) / 2\n",
    "    i += 8\n",
    "    j += 1\n",
    "\n",
    "ratios"
   ]
  },
  {
   "cell_type": "code",
   "execution_count": 74,
   "metadata": {},
   "outputs": [
    {
     "data": {
      "text/plain": [
       "[[0.0, 0.5000001],\n",
       " [0.0, 2.125000425],\n",
       " [0.0025, 9.250001175],\n",
       " [0.0120833325, 32.250000825],\n",
       " [0.017083334, 71.500002075],\n",
       " [0.0204166675, 119.750004675],\n",
       " [0.02291667, 174.00000742499998],\n",
       " [0.0212500025, 227.500008675],\n",
       " [0.0195833325, 275.750010675]]"
      ]
     },
     "execution_count": 74,
     "metadata": {},
     "output_type": "execute_result"
    }
   ],
   "source": [
    "df102_2 = pd.read_csv(\"pacing/102-2.csv\")\n",
    "df102_2 = df102_2[[\"TOA5\", \"CR1000.Std.31.03\", \"Unnamed: 5\"]]\n",
    "df102_2 = df102_2.iloc[3:]\n",
    "\n",
    "\n",
    "ratios = []\n",
    "i = 3\n",
    "while i < 75:\n",
    "    ratios += [[float(df102_2.iloc[i][\"CR1000.Std.31.03\"]) * 2, float(df102_2.iloc[i][\"Unnamed: 5\"]) * 2]]\n",
    "    i += 8\n",
    "\n",
    "    \n",
    "df102_8 = pd.read_csv(\"pacing/102-8.csv\")\n",
    "df102_8 = df102_8[[\"Date/Time\", \"Q_102_litsec_Avg\", \"Total Volume (L)\"]]\n",
    "df102_8\n",
    "\n",
    "i = 3\n",
    "j = 0\n",
    "ratios\n",
    "while i < 75:\n",
    "    \n",
    "    ratios[j][0] = (ratios[j][0] +  float(df102_8.iloc[i][\"Q_102_litsec_Avg\"]) / 2) / 2\n",
    "    ratios[j][1] = (ratios[j][1] +  float(df102_8.iloc[i][\"Total Volume (L)\"]) / 2) / 2\n",
    "    i += 8\n",
    "    j += 1\n",
    "\n",
    "ratios\n"
   ]
  },
  {
   "cell_type": "code",
   "execution_count": 81,
   "metadata": {},
   "outputs": [
    {
     "data": {
      "text/plain": [
       "[[0.0, 0.0],\n",
       " [0.0, 0.0],\n",
       " [0.0016666667499999998, 5.625000525],\n",
       " [0.008333335, 27.875000775],\n",
       " [0.0166666655, 67.75000027499999],\n",
       " [0.025833334, 122.750001025],\n",
       " [0.0295833375, 190.62500177500002],\n",
       " [0.0245833325, 254.875001275],\n",
       " [0.022916666500000002, 312.124999775]]"
      ]
     },
     "execution_count": 81,
     "metadata": {},
     "output_type": "execute_result"
    }
   ],
   "source": [
    "df103_2 = pd.read_csv(\"pacing/103-2.csv\")\n",
    "df103_2 = df103_2[[\"TOA5\", \"CPU:Station3  rain garden 09-11-19.CR1\", \"Unnamed: 5\"]]\n",
    "df103_2 = df103_2.iloc[3:]\n",
    "df103_2\n",
    "\n",
    "ratios = []\n",
    "i = 3\n",
    "while i < 75:\n",
    "    ratios += [[float(df103_2.iloc[i][df103_2.columns[1]]) * 2, float(df103_2.iloc[i][df103_2.columns[2]]) * 2]]\n",
    "    i += 8\n",
    "    \n",
    "df103_8 = pd.read_csv(\"pacing/103-8.csv\")\n",
    "df103_8 = df103_8[[\"Date/Time\", \"Q_103_litsec_Avg\", \"Total Volume (L)\"]]\n",
    "df103_8\n",
    "\n",
    "i = 3\n",
    "j = 0\n",
    "ratios\n",
    "while i < 75:\n",
    "    \n",
    "    ratios[j][0] = (ratios[j][0] +  float(df103_8.iloc[i][df103_8.columns[1]]) / 2) / 2\n",
    "    ratios[j][1] = (ratios[j][1] +  float(df103_8.iloc[i][df103_8.columns[2]]) / 2) / 2\n",
    "    i += 8\n",
    "    j += 1\n",
    "ratios"
   ]
  },
  {
   "cell_type": "code",
   "execution_count": 88,
   "metadata": {},
   "outputs": [
    {
     "data": {
      "text/plain": [
       "[[0.001666667, 2.0],\n",
       " [0.001666667, 7.999999975],\n",
       " [0.0087500005, 30.750000475000004],\n",
       " [0.024583334, 82.37499972500001],\n",
       " [0.034583337500000005, 165.249998725],\n",
       " [0.05, 285.374998975],\n",
       " [0.049166665, 407.000001225],\n",
       " [0.0408333375, 513.25000025],\n",
       " [0.03875, 608.7500004999999]]"
      ]
     },
     "execution_count": 88,
     "metadata": {},
     "output_type": "execute_result"
    }
   ],
   "source": [
    "df104_2 = pd.read_csv(\"pacing/104-2.csv\")\n",
    "df104_2 = df104_2[[\"TOA5\", \"1865\", \"Unnamed: 5\"]]\n",
    "df104_2 = df104_2.iloc[3:]\n",
    "df104_2\n",
    "\n",
    "ratios = []\n",
    "i = 3\n",
    "while i < 75:\n",
    "    ratios += [[float(df104_2.iloc[i][df104_2.columns[1]]) * 2, float(df104_2.iloc[i][df104_2.columns[2]]) * 2]]\n",
    "    i += 8\n",
    "\n",
    "df104_8 = pd.read_csv(\"pacing/104-8.csv\")\n",
    "df104_8 = df104_8[[\"Date/Time\", \"Q_104_litsec_Avg\", \"Total Volume (L)\"]]\n",
    "df104_8\n",
    "\n",
    "i = 3\n",
    "j = 0\n",
    "ratios\n",
    "while i < 75:\n",
    "    \n",
    "    ratios[j][0] = (ratios[j][0] +  float(df104_8.iloc[i][df104_8.columns[1]]) / 2) / 2\n",
    "    ratios[j][1] = (ratios[j][1] +  float(df104_8.iloc[i][df104_8.columns[2]]) / 2) / 2\n",
    "    i += 8\n",
    "    j += 1\n",
    "ratios"
   ]
  },
  {
   "cell_type": "code",
   "execution_count": 93,
   "metadata": {},
   "outputs": [
    {
     "data": {
      "text/plain": [
       "[[0.0066666667499999995, 8.375000074999999],\n",
       " [0.0075, 27.7500005],\n",
       " [0.010416667000000001, 53.25],\n",
       " [0.0195833325, 98.87500025],\n",
       " [0.030833332499999998, 174.00000025],\n",
       " [0.04083333, 268.4999995],\n",
       " [0.05041667, 381.87499925],\n",
       " [0.049166669999999996, 501.375],\n",
       " [0.0433333375, 609.50000125]]"
      ]
     },
     "execution_count": 93,
     "metadata": {},
     "output_type": "execute_result"
    }
   ],
   "source": [
    "df201_2 = pd.read_csv(\"pacing/201-2.csv\")\n",
    "df201_2 = df201_2[[\"TOA5\", \"Hydro\", \"Unnamed: 5\"]]\n",
    "df201_2 = df201_2.iloc[3:]\n",
    "df201_2\n",
    "\n",
    "ratios = []\n",
    "i = 3\n",
    "while i < 75:\n",
    "    ratios += [[float(df201_2.iloc[i][df201_2.columns[1]]) * 2, float(df201_2.iloc[i][df201_2.columns[2]]) * 2]]\n",
    "    i += 8\n",
    "\n",
    "df201_8 = pd.read_csv(\"pacing/201-8.csv\")\n",
    "df201_8 = df201_8[[\"Date/Time\", \"Q_201_litsec_Avg\", \"Total Volume (L)\"]]\n",
    "df201_8\n",
    "\n",
    "i = 3\n",
    "j = 0\n",
    "ratios\n",
    "while i < 75:\n",
    "    \n",
    "    ratios[j][0] = (ratios[j][0] +  float(df201_8.iloc[i][df201_8.columns[1]]) / 2) / 2\n",
    "    ratios[j][1] = (ratios[j][1] +  float(df201_8.iloc[i][df201_8.columns[2]]) / 2) / 2\n",
    "    i += 8\n",
    "    j += 1\n",
    "ratios"
   ]
  },
  {
   "cell_type": "code",
   "execution_count": 97,
   "metadata": {},
   "outputs": [
    {
     "data": {
      "text/plain": [
       "[[0.003333333, 4.000000025],\n",
       " [0.0070833335, 18.2500006],\n",
       " [0.0091666655, 42.749999349999996],\n",
       " [0.0200000015, 87.3749991],\n",
       " [0.03083333, 157.24999885],\n",
       " [0.04208333, 250.87499985],\n",
       " [0.0445833375, 353.87499935],\n",
       " [0.0395833325, 451.99999959999997],\n",
       " [0.034583337500000005, 540.8750004999999]]"
      ]
     },
     "execution_count": 97,
     "metadata": {},
     "output_type": "execute_result"
    }
   ],
   "source": [
    "df202_2 = pd.read_csv(\"pacing/202-2.csv\")\n",
    "df202_2 = df202_2[[\"TOA5\", \"Unnamed: 2\", \"Unnamed: 5\"]]\n",
    "df202_2 = df202_2.iloc[3:]\n",
    "df202_2\n",
    "\n",
    "ratios = []\n",
    "i = 3\n",
    "while i < 75:\n",
    "    ratios += [[float(df202_2.iloc[i][df202_2.columns[1]]) * 2, float(df202_2.iloc[i][df202_2.columns[2]]) * 2]]\n",
    "    i += 8\n",
    "\n",
    "df202_8 = pd.read_csv(\"pacing/202-8.csv\")\n",
    "df202_8 = df202_8[[\"Date/Time\", \"Q_202_litsec_Avg\", \"Total Volume (L)\"]]\n",
    "df202_8\n",
    "\n",
    "i = 3\n",
    "j = 0\n",
    "ratios\n",
    "while i < 75:\n",
    "    \n",
    "    ratios[j][0] = (ratios[j][0] +  float(df202_8.iloc[i][df202_8.columns[1]]) / 2) / 2\n",
    "    ratios[j][1] = (ratios[j][1] +  float(df202_8.iloc[i][df202_8.columns[2]]) / 2) / 2\n",
    "    i += 8\n",
    "    j += 1\n",
    "ratios"
   ]
  },
  {
   "cell_type": "code",
   "execution_count": 99,
   "metadata": {},
   "outputs": [
    {
     "data": {
      "text/plain": [
       "[[0.005, 5.5],\n",
       " [0.00541666675, 16.625],\n",
       " [0.0079166675, 34.750000650000004],\n",
       " [0.017083334, 71.87500039999999],\n",
       " [0.026249997499999997, 131.74999989999998],\n",
       " [0.0366666625, 214.7500004],\n",
       " [0.0412500025, 314.12499865],\n",
       " [0.04041667, 415.24999790000004],\n",
       " [0.0374999975, 508.74999815]]"
      ]
     },
     "execution_count": 99,
     "metadata": {},
     "output_type": "execute_result"
    }
   ],
   "source": [
    "df203_2 = pd.read_csv(\"pacing/203-2.csv\")\n",
    "df203_2 = df203_2[[\"TOA5\", \"Unnamed: 2\", \"Unnamed: 5\"]]\n",
    "df203_2 = df203_2.iloc[3:]\n",
    "df203_2\n",
    "\n",
    "ratios = []\n",
    "i = 3\n",
    "while i < 75:\n",
    "    ratios += [[float(df203_2.iloc[i][df203_2.columns[1]]) * 2, float(df203_2.iloc[i][df203_2.columns[2]]) * 2]]\n",
    "    i += 8\n",
    "\n",
    "df203_8 = pd.read_csv(\"pacing/203-8.csv\")\n",
    "df203_8 = df203_8[[\"Date/Time\", \"Q_203_litsec_Avg\", \"Total Volume (L)\"]]\n",
    "df203_8\n",
    "\n",
    "i = 3\n",
    "j = 0\n",
    "ratios\n",
    "while i < 75:\n",
    "    \n",
    "    ratios[j][0] = (ratios[j][0] +  float(df203_8.iloc[i][df203_8.columns[1]]) / 2) / 2\n",
    "    ratios[j][1] = (ratios[j][1] +  float(df203_8.iloc[i][df203_8.columns[2]]) / 2) / 2\n",
    "    i += 8\n",
    "    j += 1\n",
    "ratios"
   ]
  },
  {
   "cell_type": "code",
   "execution_count": 103,
   "metadata": {},
   "outputs": [
    {
     "data": {
      "text/plain": [
       "[[0.00250000025, 4.5],\n",
       " [0.0083333325, 29.500000125],\n",
       " [0.0183333345, 73.250000875],\n",
       " [0.0362499975, 155.12500112499998],\n",
       " [0.044166665, 266.750000375],\n",
       " [0.059166670000000005, 415.12499787499996],\n",
       " [0.055000005, 561.7499975000001],\n",
       " [0.0466666625, 686.749996],\n",
       " [0.0383333375, 785.2499965]]"
      ]
     },
     "execution_count": 103,
     "metadata": {},
     "output_type": "execute_result"
    }
   ],
   "source": [
    "df204_2 = pd.read_csv(\"pacing/204-2.csv\")\n",
    "df204_2 = df204_2[[\"TOA5\", \"Unnamed: 2\", \"Unnamed: 5\"]]\n",
    "df204_2 = df204_2.iloc[3:]\n",
    "df204_2\n",
    "\n",
    "ratios = []\n",
    "i = 3\n",
    "while i < 75:\n",
    "    ratios += [[float(df204_2.iloc[i][df204_2.columns[1]]) * 2, float(df204_2.iloc[i][df204_2.columns[2]]) * 2]]\n",
    "    i += 8\n",
    "\n",
    "df204_8 = pd.read_csv(\"pacing/204-8.csv\")\n",
    "df204_8 = df204_8[[\"Date/Time\", \"Q_204_litsec_Avg\", \"Total Volume (L)\"]]\n",
    "df204_8\n",
    "\n",
    "i = 3\n",
    "j = 0\n",
    "ratios\n",
    "while i < 75:\n",
    "    \n",
    "    ratios[j][0] = (ratios[j][0] +  float(df204_8.iloc[i][df204_8.columns[1]]) / 2) / 2\n",
    "    ratios[j][1] = (ratios[j][1] +  float(df204_8.iloc[i][df204_8.columns[2]]) / 2) / 2\n",
    "    i += 8\n",
    "    j += 1\n",
    "ratios"
   ]
  },
  {
   "cell_type": "code",
   "execution_count": 110,
   "metadata": {},
   "outputs": [
    {
     "data": {
      "text/plain": [
       "[[0.003333333, 4.75000005],\n",
       " [0.00416666625, 16.250000175],\n",
       " [0.009583333, 42.124999925],\n",
       " [0.0237500015, 94.500000175],\n",
       " [0.032916667499999996, 175.250001675],\n",
       " [0.048750005, 288.000003675],\n",
       " [0.05166667, 413.62500817499995],\n",
       " [0.045416665, 526.8750075],\n",
       " [0.04, 626.3750064999999]]"
      ]
     },
     "execution_count": 110,
     "metadata": {},
     "output_type": "execute_result"
    }
   ],
   "source": [
    "df301_2 = pd.read_csv(\"pacing/301-2.csv\")\n",
    "df301_2 = df301_2[[\"TOA5\", \"Unnamed: 2\", \"Unnamed: 5\"]]\n",
    "df301_2 = df301_2.iloc[3:]\n",
    "df301_2\n",
    "\n",
    "ratios = []\n",
    "i = 3\n",
    "while i < 75:\n",
    "    ratios += [[float(df301_2.iloc[i][df301_2.columns[1]]) * 2, float(df301_2.iloc[i][df301_2.columns[2]]) * 2]]\n",
    "    i += 8\n",
    "\n",
    "df301_8 = pd.read_csv(\"pacing/301-8.csv\")\n",
    "df301_8 = df301_8[[\"Date/Time\", \"Q_301_litsec_Avg\", \"Total Volume (L)\"]]\n",
    "df301_8\n",
    "\n",
    "i = 3\n",
    "j = 0\n",
    "ratios\n",
    "while i < 75:\n",
    "    \n",
    "    ratios[j][0] = (ratios[j][0] +  float(df301_8.iloc[i][df301_8.columns[1]]) / 2) / 2\n",
    "    ratios[j][1] = (ratios[j][1] +  float(df301_8.iloc[i][df301_8.columns[2]]) / 2) / 2\n",
    "    i += 8\n",
    "    j += 1\n",
    "ratios"
   ]
  },
  {
   "cell_type": "code",
   "execution_count": 111,
   "metadata": {},
   "outputs": [
    {
     "data": {
      "text/plain": [
       "[[0.00583333325, 9.24999995],\n",
       " [0.010416667499999999, 32.124999625],\n",
       " [0.018333335, 72.875000375],\n",
       " [0.032083335000000004, 146.250000875],\n",
       " [0.047083335000000004, 258.749996625],\n",
       " [0.064166675, 409.000001625],\n",
       " [0.064583325, 569.74999475],\n",
       " [0.057083344999999994, 717.499994],\n",
       " [0.05166667, 846.37499275]]"
      ]
     },
     "execution_count": 111,
     "metadata": {},
     "output_type": "execute_result"
    }
   ],
   "source": [
    "df302_2 = pd.read_csv(\"pacing/302-2.csv\")\n",
    "df302_2 = df302_2[[\"TOA5\", \"Unnamed: 2\", \"Unnamed: 5\"]]\n",
    "df302_2 = df302_2.iloc[3:]\n",
    "df302_2\n",
    "\n",
    "ratios = []\n",
    "i = 3\n",
    "while i < 75:\n",
    "    ratios += [[float(df302_2.iloc[i][df302_2.columns[1]]) * 2, float(df302_2.iloc[i][df302_2.columns[2]]) * 2]]\n",
    "    i += 8\n",
    "\n",
    "df302_8 = pd.read_csv(\"pacing/302-8.csv\")\n",
    "df302_8 = df302_8[[\"Date/Time\", \"Q_302_litsec_Avg\", \"Total Volume (L)\"]]\n",
    "df302_8\n",
    "\n",
    "i = 3\n",
    "j = 0\n",
    "ratios\n",
    "while i < 75:\n",
    "    \n",
    "    ratios[j][0] = (ratios[j][0] +  float(df302_8.iloc[i][df302_8.columns[1]]) / 2) / 2\n",
    "    ratios[j][1] = (ratios[j][1] +  float(df302_8.iloc[i][df302_8.columns[2]]) / 2) / 2\n",
    "    i += 8\n",
    "    j += 1\n",
    "ratios"
   ]
  },
  {
   "cell_type": "code",
   "execution_count": 112,
   "metadata": {},
   "outputs": [
    {
     "name": "stdout",
     "output_type": "stream",
     "text": [
      "Index(['TOA5', 'Daylight Savings', 'Unnamed: 2', 'Unnamed: 3', 'Unnamed: 4',\n",
      "       'Unnamed: 5', 'Unnamed: 6', 'Unnamed: 7', 'Unnamed: 8'],\n",
      "      dtype='object')\n"
     ]
    },
    {
     "data": {
      "text/plain": [
       "[[0.007916667, 8.874999975],\n",
       " [0.00833333375, 27.8750001],\n",
       " [0.010416667000000001, 52.50000035],\n",
       " [0.018333335, 93.00000159999999],\n",
       " [0.02458333, 151.75000135],\n",
       " [0.0354166675, 230.8750011],\n",
       " [0.039999997499999995, 330.87500209999996],\n",
       " [0.038750005000000004, 426.62500185],\n",
       " [0.037500000000000006, 516.8750031]]"
      ]
     },
     "execution_count": 112,
     "metadata": {},
     "output_type": "execute_result"
    }
   ],
   "source": [
    "df303_2 = pd.read_csv(\"pacing/303-2.csv\")\n",
    "print(df303_2.columns)\n",
    "df303_2 = df303_2[[\"TOA5\", \"Unnamed: 2\", \"Unnamed: 5\"]]\n",
    "df303_2 = df303_2.iloc[3:]\n",
    "df303_2\n",
    "\n",
    "ratios = []\n",
    "i = 3\n",
    "while i < 75:\n",
    "    ratios += [[float(df303_2.iloc[i][df303_2.columns[1]]) * 2, float(df303_2.iloc[i][df303_2.columns[2]]) * 2]]\n",
    "    i += 8\n",
    "\n",
    "df303_8 = pd.read_csv(\"pacing/303-8.csv\")\n",
    "df303_8 = df303_8[[\"Date/Time\", \"Q_303_litsec_Avg\", \"Total Volume (L)\"]]\n",
    "df303_8\n",
    "\n",
    "i = 3\n",
    "j = 0\n",
    "ratios\n",
    "while i < 75:\n",
    "    \n",
    "    ratios[j][0] = (ratios[j][0] +  float(df303_8.iloc[i][df303_8.columns[1]]) / 2) / 2\n",
    "    ratios[j][1] = (ratios[j][1] +  float(df303_8.iloc[i][df303_8.columns[2]]) / 2) / 2\n",
    "    i += 8\n",
    "    j += 1\n",
    "ratios"
   ]
  },
  {
   "cell_type": "code",
   "execution_count": 117,
   "metadata": {},
   "outputs": [
    {
     "name": "stdout",
     "output_type": "stream",
     "text": [
      "         Date/Time Actual time (daylight savings adj)  Q_304_litsec_Avg  \\\n",
      "0    5/19/20 12:55                      5/19/20 13:55          0.003333   \n",
      "1    5/19/20 13:00                      5/19/20 14:00          0.005000   \n",
      "2    5/19/20 13:05                      5/19/20 14:05          0.001667   \n",
      "3    5/19/20 13:10                      5/19/20 14:10          0.000000   \n",
      "4    5/19/20 13:15                      5/19/20 14:15          0.000000   \n",
      "..             ...                                ...               ...   \n",
      "297            NaN                                NaN               NaN   \n",
      "298            NaN                                NaN               NaN   \n",
      "299            NaN                                NaN               NaN   \n",
      "300            NaN                                NaN               NaN   \n",
      "301            NaN                                NaN               NaN   \n",
      "\n",
      "     Q (l/min)  Sample_Count(304)  Total Volume (L)  sample point  \\\n",
      "0          0.2                0.0               0.0           NaN   \n",
      "1          0.3                0.0               0.0           NaN   \n",
      "2          0.1                0.0               0.0           NaN   \n",
      "3          0.0                0.0               0.0           NaN   \n",
      "4          0.0                0.0               0.0           NaN   \n",
      "..         ...                ...               ...           ...   \n",
      "297        NaN                NaN               NaN           NaN   \n",
      "298        NaN                NaN               NaN           NaN   \n",
      "299        NaN                NaN               NaN           NaN   \n",
      "300        NaN                NaN               NaN           NaN   \n",
      "301        NaN                NaN               NaN           NaN   \n",
      "\n",
      "     Sample number Vol   \n",
      "0              NaN  NaN  \n",
      "1              NaN  NaN  \n",
      "2              NaN  NaN  \n",
      "3              NaN  NaN  \n",
      "4              NaN  NaN  \n",
      "..             ...  ...  \n",
      "297            NaN  NaN  \n",
      "298            NaN  NaN  \n",
      "299            NaN  NaN  \n",
      "300            NaN  NaN  \n",
      "301            NaN  NaN  \n",
      "\n",
      "[302 rows x 9 columns]\n"
     ]
    },
    {
     "data": {
      "text/plain": [
       "[[0.003333333, 4.5],\n",
       " [0.007916667, 25.62500055],\n",
       " [0.017083334500000002, 66.25000005000001],\n",
       " [0.0350000025, 147.12499954999998],\n",
       " [0.045, 264.87500505],\n",
       " [0.057500005, 408.87500754999996],\n",
       " [0.053749995, 550.499998],\n",
       " [0.0450000025, 672.749996],\n",
       " [0.0404166625, 776.999995]]"
      ]
     },
     "execution_count": 117,
     "metadata": {},
     "output_type": "execute_result"
    }
   ],
   "source": [
    "df304_2 = pd.read_csv(\"pacing/304-2.csv\")\n",
    "\n",
    "df304_2 = df304_2[[\"TOA5\", \"Unnamed: 2\", \"Unnamed: 5\"]]\n",
    "df304_2 = df304_2.iloc[3:]\n",
    "df304_2\n",
    "\n",
    "ratios = []\n",
    "i = 3\n",
    "while i < 75:\n",
    "    ratios += [[float(df304_2.iloc[i][df304_2.columns[1]]) * 2, float(df304_2.iloc[i][df304_2.columns[2]]) * 2]]\n",
    "    i += 8\n",
    "\n",
    "df304_8 = pd.read_csv(\"pacing/304-8.csv\")\n",
    "print(df304_8)\n",
    "df304_8 = df304_8[[\"Date/Time\", \"Q_304_litsec_Avg\", \"Total Volume (L)\"]]\n",
    "df304_8\n",
    "\n",
    "i = 3\n",
    "j = 0\n",
    "ratios\n",
    "while i < 75:\n",
    "    \n",
    "    ratios[j][0] = (ratios[j][0] +  float(df304_8.iloc[i][df304_8.columns[1]]) / 2) / 2\n",
    "    ratios[j][1] = (ratios[j][1] +  float(df304_8.iloc[i][df304_8.columns[2]]) / 2) / 2\n",
    "    i += 8\n",
    "    j += 1\n",
    "ratios"
   ]
  },
  {
   "cell_type": "code",
   "execution_count": 119,
   "metadata": {},
   "outputs": [
    {
     "data": {
      "text/plain": [
       "[[0.00208333375, 3.500000025],\n",
       " [0.009166667, 24.500000725],\n",
       " [0.013750000000000002, 60.125000725],\n",
       " [0.030416665000000002, 126.500000225],\n",
       " [0.0341666625, 219.000000725],\n",
       " [0.04666667, 332.375000475],\n",
       " [0.04666667, 448.125003725],\n",
       " [0.037083335, 545.7500035],\n",
       " [0.0345833325, 627.87500475]]"
      ]
     },
     "execution_count": 119,
     "metadata": {},
     "output_type": "execute_result"
    }
   ],
   "source": [
    "df401_2 = pd.read_csv(\"pacing/401-2.csv\")\n",
    "\n",
    "df401_2 = df401_2[[\"TOA5\", \"Unnamed: 2\", \"Unnamed: 5\"]]\n",
    "df401_2 = df401_2.iloc[3:]\n",
    "df401_2\n",
    "\n",
    "ratios = []\n",
    "i = 3\n",
    "while i < 75:\n",
    "    ratios += [[float(df401_2.iloc[i][df401_2.columns[1]]) * 2, float(df401_2.iloc[i][df401_2.columns[2]]) * 2]]\n",
    "    i += 8\n",
    "\n",
    "df401_8 = pd.read_csv(\"pacing/401-8.csv\")\n",
    "df401_8 = df401_8[[\"Date/Time\", \"Q_401_litsec_Avg\", \"Total Volume (L)\"]]\n",
    "df401_8\n",
    "\n",
    "i = 3\n",
    "j = 0\n",
    "ratios\n",
    "while i < 75:\n",
    "    \n",
    "    ratios[j][0] = (ratios[j][0] +  float(df401_8.iloc[i][df401_8.columns[1]]) / 2) / 2\n",
    "    ratios[j][1] = (ratios[j][1] +  float(df401_8.iloc[i][df401_8.columns[2]]) / 2) / 2\n",
    "    i += 8\n",
    "    j += 1\n",
    "ratios"
   ]
  },
  {
   "cell_type": "code",
   "execution_count": 120,
   "metadata": {},
   "outputs": [
    {
     "data": {
      "text/plain": [
       "[[0.003333333, 3.5],\n",
       " [0.00625, 21.7499995],\n",
       " [0.0112500005, 51.9999995],\n",
       " [0.024166666499999996, 113.99999875],\n",
       " [0.0275, 198.8749985],\n",
       " [0.041249997499999996, 303.8749985],\n",
       " [0.03875, 410.37499975000003],\n",
       " [0.0333333325, 495.99999875],\n",
       " [0.027083335, 563.8749985]]"
      ]
     },
     "execution_count": 120,
     "metadata": {},
     "output_type": "execute_result"
    }
   ],
   "source": [
    "df402_2 = pd.read_csv(\"pacing/402-2.csv\")\n",
    "\n",
    "df402_2 = df402_2[[\"TOA5\", \"Unnamed: 2\", \"Unnamed: 5\"]]\n",
    "df402_2 = df402_2.iloc[3:]\n",
    "df402_2\n",
    "\n",
    "ratios = []\n",
    "i = 3\n",
    "while i < 75:\n",
    "    ratios += [[float(df402_2.iloc[i][df402_2.columns[1]]) * 2, float(df402_2.iloc[i][df402_2.columns[2]]) * 2]]\n",
    "    i += 8\n",
    "\n",
    "df402_8 = pd.read_csv(\"pacing/402-8.csv\")\n",
    "df402_8 = df402_8[[\"Date/Time\", \"Q_402_litsec_Avg\", \"Total Volume (L)\"]]\n",
    "df402_8\n",
    "\n",
    "i = 3\n",
    "j = 0\n",
    "ratios\n",
    "while i < 75:\n",
    "    \n",
    "    ratios[j][0] = (ratios[j][0] +  float(df402_8.iloc[i][df402_8.columns[1]]) / 2) / 2\n",
    "    ratios[j][1] = (ratios[j][1] +  float(df402_8.iloc[i][df402_8.columns[2]]) / 2) / 2\n",
    "    i += 8\n",
    "    j += 1\n",
    "ratios"
   ]
  },
  {
   "cell_type": "code",
   "execution_count": 121,
   "metadata": {},
   "outputs": [
    {
     "data": {
      "text/plain": [
       "[[0.0, 0.375000075],\n",
       " [0.0037500004999999996, 9.874999825],\n",
       " [0.010416667000000001, 37.250000575],\n",
       " [0.024583334, 91.874999575],\n",
       " [0.03416667, 179.374999325],\n",
       " [0.052916674999999996, 300.87500332499997],\n",
       " [0.050416655000000005, 431.500004825],\n",
       " [0.043750002499999996, 547.25000375],\n",
       " [0.03958333, 648.1250055]]"
      ]
     },
     "execution_count": 121,
     "metadata": {},
     "output_type": "execute_result"
    }
   ],
   "source": [
    "df403_2 = pd.read_csv(\"pacing/403-2.csv\")\n",
    "\n",
    "df403_2 = df403_2[[\"TOA5\", \"Unnamed: 2\", \"Unnamed: 5\"]]\n",
    "df403_2 = df403_2.iloc[3:]\n",
    "df403_2\n",
    "\n",
    "ratios = []\n",
    "i = 3\n",
    "while i < 75:\n",
    "    ratios += [[float(df403_2.iloc[i][df403_2.columns[1]]) * 2, float(df403_2.iloc[i][df403_2.columns[2]]) * 2]]\n",
    "    i += 8\n",
    "\n",
    "df403_8 = pd.read_csv(\"pacing/403-8.csv\")\n",
    "df403_8 = df403_8[[\"Date/Time\", \"Q_403_litsec_Avg\", \"Total Volume (L)\"]]\n",
    "df403_8\n",
    "\n",
    "i = 3\n",
    "j = 0\n",
    "ratios\n",
    "while i < 75:\n",
    "    \n",
    "    ratios[j][0] = (ratios[j][0] +  float(df403_8.iloc[i][df403_8.columns[1]]) / 2) / 2\n",
    "    ratios[j][1] = (ratios[j][1] +  float(df403_8.iloc[i][df403_8.columns[2]]) / 2) / 2\n",
    "    i += 8\n",
    "    j += 1\n",
    "ratios"
   ]
  },
  {
   "cell_type": "code",
   "execution_count": 127,
   "metadata": {},
   "outputs": [
    {
     "name": "stdout",
     "output_type": "stream",
     "text": [
      "Index(['Date/Time', 'Actual time (daylight savings adj)', 'Q_404_litsec_Avg',\n",
      "       'Q l/min', 'Sample_Count(404)', 'total volume', 'sample point',\n",
      "       'Sample number', 'volume', 'Unnamed: 9'],\n",
      "      dtype='object')\n"
     ]
    },
    {
     "data": {
      "text/plain": [
       "[[0.005, 5.125000025],\n",
       " [0.00541666675, 17.0000001],\n",
       " [0.0075, 32.0000002],\n",
       " [0.018333335, 66.5000003],\n",
       " [0.033750005, 136.6249998],\n",
       " [0.047499995, 240.74999855],\n",
       " [0.04416667, 345.1249983],\n",
       " [0.0349999975, 445.74999805000004],\n",
       " [0.03125, 540.1249978000001]]"
      ]
     },
     "execution_count": 127,
     "metadata": {},
     "output_type": "execute_result"
    }
   ],
   "source": [
    "df404_2 = pd.read_csv(\"pacing/404-2.csv\")\n",
    "\n",
    "df404_2 = df404_2[[\"TOA5\", \"Unnamed: 2\", \"Unnamed: 5\"]]\n",
    "df404_2 = df404_2.iloc[3:]\n",
    "df404_2\n",
    "\n",
    "ratios = []\n",
    "i = 3\n",
    "while i < 75:\n",
    "    ratios += [[float(df404_2.iloc[i][df404_2.columns[1]]) * 2, float(df404_2.iloc[i][df404_2.columns[2]]) * 2]]\n",
    "    i += 8\n",
    "\n",
    "df404_8 = pd.read_csv(\"pacing/404-8.csv\")\n",
    "df404_8 = df404_8[[\"Date/Time\", \"Q_404_litsec_Avg\", \"total volume\"]]\n",
    "df404_8\n",
    "\n",
    "i = 3\n",
    "j = 0\n",
    "ratios\n",
    "while i < 75:\n",
    "    \n",
    "    ratios[j][0] = (ratios[j][0] +  float(df404_8.iloc[i][df404_8.columns[1]]) / 2) / 2\n",
    "    ratios[j][1] = (ratios[j][1] +  float(df404_8.iloc[i][df404_8.columns[2]]) / 2) / 2\n",
    "    i += 8\n",
    "    j += 1\n",
    "ratios"
   ]
  },
  {
   "cell_type": "code",
   "execution_count": null,
   "metadata": {},
   "outputs": [],
   "source": [
    "df404_2 = pd.read_csv(\"pacing/404-2.csv\")\n",
    "\n",
    "df404_2 = df404_2[[\"TOA5\", \"Unnamed: 2\", \"Unnamed: 5\"]]\n",
    "df404_2 = df404_2.iloc[3:]\n",
    "df404_2\n",
    "\n",
    "ratios = []\n",
    "i = 3\n",
    "while i < 75:\n",
    "    ratios += [[float(df404_2.iloc[i][df404_2.columns[1]]) * 2, float(df404_2.iloc[i][df404_2.columns[2]]) * 2]]\n",
    "    i += 8\n",
    "\n",
    "df404_8 = pd.read_csv(\"pacing/404-8.csv\")\n",
    "df404_8 = df404_8[[\"Date/Time\", \"Q_404_litsec_Avg\", \"total volume\"]]\n",
    "df404_8\n",
    "\n",
    "i = 3\n",
    "j = 0\n",
    "ratios\n",
    "while i < 75:\n",
    "    \n",
    "    ratios[j][0] = (ratios[j][0] +  float(df404_8.iloc[i][df404_8.columns[1]]) / 2) / 2\n",
    "    ratios[j][1] = (ratios[j][1] +  float(df404_8.iloc[i][df404_8.columns[2]]) / 2) / 2\n",
    "    i += 8\n",
    "    j += 1\n",
    "ratios"
   ]
  },
  {
   "cell_type": "code",
   "execution_count": 131,
   "metadata": {},
   "outputs": [
    {
     "data": {
      "text/plain": [
       "[[0.0066666675, 2.6250002999999995],\n",
       " [0.020416665, 28.499998575],\n",
       " [0.051666674999999995, 67.8750044],\n",
       " [0.062499995, 149.249996175],\n",
       " [0.074166655, 244.62498845],\n",
       " [0.059166667500000006, 361.9999887],\n",
       " [0.043750004999999995, 450.999991275],\n",
       " [0.030416674999999997, 520.499991],\n",
       " [0.02, 575.999992]]"
      ]
     },
     "execution_count": 131,
     "metadata": {},
     "output_type": "execute_result"
    }
   ],
   "source": [
    "inf2 = pd.read_csv(\"pacing/INF-2.csv\")\n",
    "\n",
    "inf2 = inf2[[\"TOA5\", \"Unnamed: 2\", \"Unnamed: 5\"]]\n",
    "inf2 = inf2.iloc[3:]\n",
    "inf2\n",
    "\n",
    "ratios = []\n",
    "i = 3\n",
    "while i < 75:\n",
    "    ratios += [[float(inf2.iloc[i][inf2.columns[1]]) * 2, float(inf2.iloc[i][inf2.columns[2]]) * 2]]\n",
    "    i += 8\n",
    "\n",
    "inf8 = pd.read_csv(\"pacing/inf-8.csv\")\n",
    "inf8 = inf8[[\"Date/Time\", \"Q_IN_litsec_Avg\", \"tot volume (L)\"]]\n",
    "inf8\n",
    "\n",
    "i = 3\n",
    "j = 0\n",
    "ratios\n",
    "while i < 75:\n",
    "    \n",
    "    ratios[j][0] = (ratios[j][0] +  float(inf8.iloc[i][inf8.columns[1]]) / 2) / 2\n",
    "    ratios[j][1] = (ratios[j][1] +  float(inf8.iloc[i][inf8.columns[2]]) / 2) / 2\n",
    "    i += 8\n",
    "    j += 1\n",
    "ratios"
   ]
  },
  {
   "cell_type": "code",
   "execution_count": null,
   "metadata": {},
   "outputs": [],
   "source": []
  }
 ],
 "metadata": {
  "kernelspec": {
   "display_name": "Python 3",
   "language": "python",
   "name": "python3"
  },
  "language_info": {
   "codemirror_mode": {
    "name": "ipython",
    "version": 3
   },
   "file_extension": ".py",
   "mimetype": "text/x-python",
   "name": "python",
   "nbconvert_exporter": "python",
   "pygments_lexer": "ipython3",
   "version": "3.7.4"
  }
 },
 "nbformat": 4,
 "nbformat_minor": 2
}
